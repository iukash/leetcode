{
 "cells": [
  {
   "cell_type": "markdown",
   "id": "f4d073c9",
   "metadata": {},
   "source": [
    "Вернуть длину неповторяющегося подмассива"
   ]
  },
  {
   "cell_type": "code",
   "execution_count": 77,
   "id": "c4850ae7",
   "metadata": {},
   "outputs": [],
   "source": [
    "class Solution:\n",
    "    def lengthOfLongestSubstring(self, s: str) -> int:\n",
    "        max_len = 0\n",
    "        s_max = ''\n",
    "        s_cur = ''\n",
    "        for i in range(len(s)):\n",
    "            if s[i] not in s_cur:\n",
    "                s_cur += s[i]\n",
    "            else:\n",
    "                if len(s_cur) > max_len:\n",
    "                    s_max = s_cur\n",
    "                    max_len = len(s_cur)\n",
    "                s_cur += s[i]\n",
    "                s_cur = s_cur[s_cur.index(s[i])+1:]\n",
    "        if len(s_cur) > max_len:\n",
    "            max_len = len(s_cur)\n",
    "        return max_len"
   ]
  },
  {
   "cell_type": "code",
   "execution_count": 78,
   "id": "34e799fd",
   "metadata": {},
   "outputs": [
    {
     "data": {
      "text/plain": [
       "3"
      ]
     },
     "execution_count": 78,
     "metadata": {},
     "output_type": "execute_result"
    }
   ],
   "source": [
    "sl = Solution()\n",
    "sl.lengthOfLongestSubstring(\"aabaab!bb\")"
   ]
  },
  {
   "cell_type": "code",
   "execution_count": null,
   "id": "d964bea7",
   "metadata": {},
   "outputs": [],
   "source": []
  }
 ],
 "metadata": {
  "kernelspec": {
   "display_name": "Python 3 (ipykernel)",
   "language": "python",
   "name": "python3"
  },
  "language_info": {
   "codemirror_mode": {
    "name": "ipython",
    "version": 3
   },
   "file_extension": ".py",
   "mimetype": "text/x-python",
   "name": "python",
   "nbconvert_exporter": "python",
   "pygments_lexer": "ipython3",
   "version": "3.10.6"
  }
 },
 "nbformat": 4,
 "nbformat_minor": 5
}
