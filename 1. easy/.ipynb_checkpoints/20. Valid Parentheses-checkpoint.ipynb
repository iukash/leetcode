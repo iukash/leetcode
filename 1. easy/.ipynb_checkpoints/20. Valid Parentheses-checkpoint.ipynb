{
 "cells": [
  {
   "cell_type": "markdown",
   "id": "c8baab38",
   "metadata": {},
   "source": [
    "На вход поступает строка s, содержащую только символы '(', ')', '{', '}', '[' и ']', определите, допустима ли входная строка. Допустимость определяется открытием и закрытием однотипных скобок."
   ]
  },
  {
   "cell_type": "code",
   "execution_count": 16,
   "id": "1da79cb6",
   "metadata": {},
   "outputs": [],
   "source": [
    "class Solution:\n",
    "    def isValid(self, s: str) -> bool:\n",
    "        buf = [0]*len(s)\n",
    "        d_p = {']' : '[', ')' : '(', '}' : '{'}\n",
    "        index = 0\n",
    "        for i in range(len(s)):\n",
    "            if s[i] in d_p:\n",
    "                if index == 0:\n",
    "                    return False\n",
    "                if buf[index-1] == d_p.get(s[i]):\n",
    "                    index -= 1\n",
    "                else:\n",
    "                    return False\n",
    "            else:\n",
    "                buf[index] = s[i]\n",
    "                index += 1\n",
    "        if index == 0:\n",
    "            return True\n",
    "        else:\n",
    "            return False"
   ]
  },
  {
   "cell_type": "code",
   "execution_count": 17,
   "id": "1664ff5f",
   "metadata": {},
   "outputs": [
    {
     "data": {
      "text/plain": [
       "False"
      ]
     },
     "execution_count": 17,
     "metadata": {},
     "output_type": "execute_result"
    }
   ],
   "source": [
    "cl = Solution()\n",
    "s = \"[\"\n",
    "cl.isValid(s)"
   ]
  },
  {
   "cell_type": "code",
   "execution_count": null,
   "id": "2fa58f6e",
   "metadata": {},
   "outputs": [],
   "source": []
  }
 ],
 "metadata": {
  "kernelspec": {
   "display_name": "Python 3 (ipykernel)",
   "language": "python",
   "name": "python3"
  },
  "language_info": {
   "codemirror_mode": {
    "name": "ipython",
    "version": 3
   },
   "file_extension": ".py",
   "mimetype": "text/x-python",
   "name": "python",
   "nbconvert_exporter": "python",
   "pygments_lexer": "ipython3",
   "version": "3.10.6"
  }
 },
 "nbformat": 4,
 "nbformat_minor": 5
}
