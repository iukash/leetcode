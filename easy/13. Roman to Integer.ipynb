{
 "cells": [
  {
   "cell_type": "markdown",
   "id": "18e4c071",
   "metadata": {},
   "source": [
    "Хорошее самостоятельное решение\n",
    "Runtime: 63 ms, faster than 73.18% of Python3 online submissions for Roman to Integer.\n",
    "Memory Usage: 13.9 MB, less than 30.23% of Python3 online submissions for Roman to Integer."
   ]
  },
  {
   "cell_type": "code",
   "execution_count": 2,
   "id": "6546e770",
   "metadata": {},
   "outputs": [],
   "source": [
    "class Solution:\n",
    "    def romanToInt(self, s: str) -> int:\n",
    "        d = {'M':1000, 'D':500, 'C':100, 'L':50, 'X':10, 'V':5, 'I':1}\n",
    "        rez = 0\n",
    "        for i in range(len(s)):\n",
    "            znak = 1\n",
    "            i_val = d.get(s[i])\n",
    "            for j in range(i, len(s)):\n",
    "                if i_val < d.get(s[j]):\n",
    "                    znak = -1\n",
    "                    break\n",
    "            \n",
    "            if s[i] == 'M':\n",
    "                rez += znak* 1000\n",
    "            elif s[i] == 'D':\n",
    "                rez += znak*500\n",
    "            elif s[i] == 'C':\n",
    "                rez += znak*100\n",
    "            elif s[i] == 'L':\n",
    "                rez += znak*50\n",
    "            elif s[i] == 'X':\n",
    "                rez += znak*10\n",
    "            elif s[i] == 'V':\n",
    "                rez += znak*5\n",
    "            elif s[i] == 'I':\n",
    "                rez += znak*1\n",
    "                \n",
    "        return rez"
   ]
  },
  {
   "cell_type": "code",
   "execution_count": 3,
   "id": "d20404e8",
   "metadata": {},
   "outputs": [
    {
     "data": {
      "text/plain": [
       "3"
      ]
     },
     "execution_count": 3,
     "metadata": {},
     "output_type": "execute_result"
    }
   ],
   "source": [
    "cl = Solution()\n",
    "s = \"III\"\n",
    "cl.romanToInt(s)"
   ]
  },
  {
   "cell_type": "code",
   "execution_count": null,
   "id": "0c459ec5",
   "metadata": {},
   "outputs": [],
   "source": []
  }
 ],
 "metadata": {
  "kernelspec": {
   "display_name": "Python 3 (ipykernel)",
   "language": "python",
   "name": "python3"
  },
  "language_info": {
   "codemirror_mode": {
    "name": "ipython",
    "version": 3
   },
   "file_extension": ".py",
   "mimetype": "text/x-python",
   "name": "python",
   "nbconvert_exporter": "python",
   "pygments_lexer": "ipython3",
   "version": "3.10.4"
  }
 },
 "nbformat": 4,
 "nbformat_minor": 5
}
