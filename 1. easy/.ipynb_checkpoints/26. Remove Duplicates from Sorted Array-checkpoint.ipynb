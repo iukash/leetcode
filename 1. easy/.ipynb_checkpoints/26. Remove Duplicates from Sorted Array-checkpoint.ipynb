{
 "cells": [
  {
   "cell_type": "markdown",
   "id": "d23dfc9d",
   "metadata": {},
   "source": [
    "Удалить повторения из отсортированного массива"
   ]
  },
  {
   "cell_type": "code",
   "execution_count": 5,
   "id": "792ec8d1",
   "metadata": {},
   "outputs": [],
   "source": [
    "from typing import List\n",
    "\n",
    "class Solution:\n",
    "    def removeDuplicates(self, nums: List[int]) -> int:\n",
    "        cur = ''\n",
    "        cur_i = 0\n",
    "        for i in range(len(nums)):\n",
    "            if nums[i] != cur:\n",
    "                cur = nums[i]\n",
    "                nums[cur_i] = cur\n",
    "                cur_i += 1\n",
    "\n",
    "        return cur_i"
   ]
  },
  {
   "cell_type": "code",
   "execution_count": 6,
   "id": "063ae556",
   "metadata": {},
   "outputs": [
    {
     "data": {
      "text/plain": [
       "2"
      ]
     },
     "execution_count": 6,
     "metadata": {},
     "output_type": "execute_result"
    }
   ],
   "source": [
    "cl = Solution()\n",
    "cl.removeDuplicates([1, 1, 2])"
   ]
  },
  {
   "cell_type": "code",
   "execution_count": null,
   "id": "5ff06390",
   "metadata": {},
   "outputs": [],
   "source": []
  }
 ],
 "metadata": {
  "kernelspec": {
   "display_name": "Python 3 (ipykernel)",
   "language": "python",
   "name": "python3"
  },
  "language_info": {
   "codemirror_mode": {
    "name": "ipython",
    "version": 3
   },
   "file_extension": ".py",
   "mimetype": "text/x-python",
   "name": "python",
   "nbconvert_exporter": "python",
   "pygments_lexer": "ipython3",
   "version": "3.10.6"
  }
 },
 "nbformat": 4,
 "nbformat_minor": 5
}
