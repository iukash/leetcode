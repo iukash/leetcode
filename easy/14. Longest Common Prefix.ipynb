{
 "cells": [
  {
   "cell_type": "markdown",
   "id": "695cd731",
   "metadata": {},
   "source": [
    "плохое самостоятельное решение\n",
    "Runtime: 69 ms, faster than 19.99% of Python3 online submissions for Longest Common Prefix.\n",
    "Memory Usage: 13.9 MB, less than 50.02% of Python3 online submissions for Longest Common Prefix."
   ]
  },
  {
   "cell_type": "code",
   "execution_count": 2,
   "id": "4c39b6c9",
   "metadata": {},
   "outputs": [],
   "source": [
    "from typing import List\n",
    "\n",
    "class Solution:\n",
    "    def longestCommonPrefix(self, strs: List[str]) -> str:\n",
    "        prefix = strs[0]\n",
    "        for i in strs[1:]:\n",
    "            l = 0\n",
    "            if len(i) < len(prefix):\n",
    "                l = len(i)\n",
    "                prefix = prefix[:l]\n",
    "            else:\n",
    "                l = len(prefix)\n",
    "                \n",
    "            for j in range(l):\n",
    "                if i[j] != prefix[j]:\n",
    "                    prefix = prefix[:j]\n",
    "                    break\n",
    "            \n",
    "            if len(prefix) == 0:\n",
    "                return \"\"\n",
    "            \n",
    "        return prefix"
   ]
  },
  {
   "cell_type": "code",
   "execution_count": 3,
   "id": "6fbba0cc",
   "metadata": {},
   "outputs": [
    {
     "data": {
      "text/plain": [
       "'fl'"
      ]
     },
     "execution_count": 3,
     "metadata": {},
     "output_type": "execute_result"
    }
   ],
   "source": [
    "cl = Solution()\n",
    "cl.longestCommonPrefix([\"flower\",\"flow\",\"flight\"])"
   ]
  },
  {
   "cell_type": "code",
   "execution_count": null,
   "id": "59da6c8c",
   "metadata": {},
   "outputs": [],
   "source": []
  },
  {
   "cell_type": "code",
   "execution_count": 4,
   "id": "58c66f27",
   "metadata": {},
   "outputs": [],
   "source": [
    "class Solution:\n",
    "    def longestCommonPrefix(self, strs: List[str]) -> str:\n",
    "        prefix = strs[0]\n",
    "        for i in strs[1:]:\n",
    "            l = 0\n",
    "            if len(i) < len(prefix):\n",
    "                l = len(i)\n",
    "                prefix = prefix[:l]\n",
    "            else:\n",
    "                l = len(prefix)\n",
    "                \n",
    "            for j in range(l):\n",
    "                if i[j] != prefix[j]:\n",
    "                    prefix = prefix[:j]\n",
    "                    break\n",
    "            \n",
    "            if len(prefix) == 0:\n",
    "                return \"\"\n",
    "            \n",
    "        return prefix"
   ]
  },
  {
   "cell_type": "code",
   "execution_count": null,
   "id": "973d8840",
   "metadata": {},
   "outputs": [],
   "source": []
  }
 ],
 "metadata": {
  "kernelspec": {
   "display_name": "Python 3 (ipykernel)",
   "language": "python",
   "name": "python3"
  },
  "language_info": {
   "codemirror_mode": {
    "name": "ipython",
    "version": 3
   },
   "file_extension": ".py",
   "mimetype": "text/x-python",
   "name": "python",
   "nbconvert_exporter": "python",
   "pygments_lexer": "ipython3",
   "version": "3.9.13"
  }
 },
 "nbformat": 4,
 "nbformat_minor": 5
}
