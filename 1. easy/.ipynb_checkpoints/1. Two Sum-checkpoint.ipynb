{
 "cells": [
  {
   "cell_type": "markdown",
   "id": "5cfaeeb1",
   "metadata": {},
   "source": [
    "На вход подается массив целых чисел nums и целочисленная цель, вернуть индексы двух чисел так, чтобы они складывались в цель. Вы можете предположить, что каждый вход будет иметь ровно одно решение, и вы не можете использовать один и тот же элемент дважды. Вы можете вернуть ответ в любом порядке."
   ]
  },
  {
   "cell_type": "code",
   "execution_count": 7,
   "id": "975e768b",
   "metadata": {},
   "outputs": [],
   "source": [
    "from typing import List\n",
    "\n",
    "class Solution:\n",
    "    def twoSum(self, nums: List[int], target: int) -> List[int]:\n",
    "        d_h = {}\n",
    "        for i in range(len(nums)):\n",
    "            elem = nums[i]\n",
    "            if (target - elem) in d_h:\n",
    "                if i != d_h.get(target-elem):\n",
    "                    return [i, d_h.get(target-elem)]\n",
    "            d_h[elem] = i"
   ]
  },
  {
   "cell_type": "code",
   "execution_count": 8,
   "id": "f3f18068",
   "metadata": {},
   "outputs": [
    {
     "data": {
      "text/plain": [
       "[2, 1]"
      ]
     },
     "execution_count": 8,
     "metadata": {},
     "output_type": "execute_result"
    }
   ],
   "source": [
    "cl = Solution()\n",
    "cl.twoSum([1, 2, 3], 5)"
   ]
  },
  {
   "cell_type": "code",
   "execution_count": null,
   "id": "2264032f",
   "metadata": {},
   "outputs": [],
   "source": []
  }
 ],
 "metadata": {
  "kernelspec": {
   "display_name": "Python 3 (ipykernel)",
   "language": "python",
   "name": "python3"
  },
  "language_info": {
   "codemirror_mode": {
    "name": "ipython",
    "version": 3
   },
   "file_extension": ".py",
   "mimetype": "text/x-python",
   "name": "python",
   "nbconvert_exporter": "python",
   "pygments_lexer": "ipython3",
   "version": "3.10.6"
  }
 },
 "nbformat": 4,
 "nbformat_minor": 5
}
