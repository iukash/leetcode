{
 "cells": [
  {
   "cell_type": "markdown",
   "id": "6a196dd3",
   "metadata": {},
   "source": [
    "На вход поступает целочисленный номер столбца, верните соответствующий заголовок столбца, как он отображается на листе Excel."
   ]
  },
  {
   "cell_type": "code",
   "execution_count": 37,
   "id": "f0ecc915",
   "metadata": {},
   "outputs": [],
   "source": [
    "class Solution:\n",
    "    def convertToTitle(self, columnNumber: int) -> str:\n",
    "        rez = ''\n",
    "        d = {1:'A', 2:'B', 3:'C', 4:'D', 5:'E', 6:'F', 7:'G', 8:'H', 9:'I', 10:'J', 11:'K', 12:'L', 13:'M',\n",
    "            14:'N', 15:'O', 16:'P', 17:'Q', 18:'R', 19:'S', 20:'T', 21:'U', 22:'V', 23:'W', 24:'X', 25:'Y', 26:'Z'}\n",
    "        per = 1\n",
    "        while((columnNumber - 26**per) >= 0):\n",
    "            per += 1\n",
    "        for j in range(per, 0, -1):\n",
    "            cur = columnNumber - 26**j\n",
    "            for k in range(0, 26):\n",
    "                if cur - 26*k < 0:\n",
    "                    rez += d[k]\n",
    "                    columnNumber -= 26*(k)\n",
    "                    break\n",
    "                    print(k)\n",
    "        return rez"
   ]
  },
  {
   "cell_type": "code",
   "execution_count": 38,
   "id": "176496d9",
   "metadata": {},
   "outputs": [
    {
     "name": "stdout",
     "output_type": "stream",
     "text": [
      "-649\n",
      "1\n"
     ]
    },
    {
     "data": {
      "text/plain": [
       "'AB'"
      ]
     },
     "execution_count": 38,
     "metadata": {},
     "output_type": "execute_result"
    }
   ],
   "source": [
    "sl = Solution()\n",
    "sl.convertToTitle(27)"
   ]
  },
  {
   "cell_type": "code",
   "execution_count": null,
   "id": "09399af5",
   "metadata": {},
   "outputs": [],
   "source": []
  }
 ],
 "metadata": {
  "kernelspec": {
   "display_name": "Python 3 (ipykernel)",
   "language": "python",
   "name": "python3"
  },
  "language_info": {
   "codemirror_mode": {
    "name": "ipython",
    "version": 3
   },
   "file_extension": ".py",
   "mimetype": "text/x-python",
   "name": "python",
   "nbconvert_exporter": "python",
   "pygments_lexer": "ipython3",
   "version": "3.10.6"
  }
 },
 "nbformat": 4,
 "nbformat_minor": 5
}
