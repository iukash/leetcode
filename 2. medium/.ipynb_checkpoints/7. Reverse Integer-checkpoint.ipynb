{
 "cells": [
  {
   "cell_type": "code",
   "execution_count": 19,
   "id": "ed05aa43",
   "metadata": {},
   "outputs": [],
   "source": [
    "class Solution:\n",
    "    def reverse(self, x: int) -> int:      \n",
    "        znak = 1\n",
    "        if x < 0:\n",
    "            znak = -1\n",
    "\n",
    "        rez = znak*int(str(abs(x))[::-1])\n",
    "        if rez < -2**31 or rez > (2**31 -1):\n",
    "            return 0\n",
    "        else:\n",
    "            return rez"
   ]
  },
  {
   "cell_type": "code",
   "execution_count": 18,
   "id": "75316455",
   "metadata": {},
   "outputs": [
    {
     "data": {
      "text/plain": [
       "0"
      ]
     },
     "execution_count": 18,
     "metadata": {},
     "output_type": "execute_result"
    }
   ],
   "source": [
    "sl = Solution()\n",
    "sl.reverse(9646324351)"
   ]
  },
  {
   "cell_type": "code",
   "execution_count": null,
   "id": "d1d7aadd",
   "metadata": {},
   "outputs": [],
   "source": []
  }
 ],
 "metadata": {
  "kernelspec": {
   "display_name": "Python 3 (ipykernel)",
   "language": "python",
   "name": "python3"
  },
  "language_info": {
   "codemirror_mode": {
    "name": "ipython",
    "version": 3
   },
   "file_extension": ".py",
   "mimetype": "text/x-python",
   "name": "python",
   "nbconvert_exporter": "python",
   "pygments_lexer": "ipython3",
   "version": "3.10.6"
  }
 },
 "nbformat": 4,
 "nbformat_minor": 5
}
