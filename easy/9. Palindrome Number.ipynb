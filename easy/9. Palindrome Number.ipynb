{
 "cells": [
  {
   "cell_type": "markdown",
   "id": "bba786a8",
   "metadata": {},
   "source": [
    "Решение лучше 48%"
   ]
  },
  {
   "cell_type": "code",
   "execution_count": 3,
   "id": "097bc624",
   "metadata": {},
   "outputs": [],
   "source": [
    "class Solution:\n",
    "    def isPalindrome(self, x: int) -> bool:\n",
    "        s = str(x)\n",
    "        if len(s) % 2 != 0:\n",
    "            med = int((len(s) / 2) + 0.5)\n",
    "            a = s[:med]\n",
    "            b = ''.join(reversed(s[med-1:]))\n",
    "        else:\n",
    "            med = int(len(s) / 2)\n",
    "            a = s[:med]\n",
    "            b = ''.join(reversed(s[med:]))\n",
    "        if a == b:\n",
    "            return True\n",
    "        else:\n",
    "            return False"
   ]
  },
  {
   "cell_type": "markdown",
   "id": "9875eb80",
   "metadata": {},
   "source": [
    "Это супер (самостоятельное) решение\n",
    "Runtime: 54 ms, faster than 98.18% of Python3 online submissions for Palindrome Number.\n",
    "Memory Usage: 14 MB, less than 16.15% of Python3 online submissions for Palindrome Number."
   ]
  },
  {
   "cell_type": "code",
   "execution_count": 15,
   "id": "f97c96df",
   "metadata": {},
   "outputs": [],
   "source": [
    "class Solution:\n",
    "    def isPalindrome(self, x: int) -> bool:\n",
    "        s = str(x)\n",
    "        l = len(s)\n",
    "        if len(s) % 2 != 0:\n",
    "            med = int((l / 2) + 0.5)\n",
    "        else:\n",
    "            med = int(l / 2)\n",
    "            \n",
    "        for i in range(l-med):\n",
    "            if s[i] != s[l-i-1]:\n",
    "                return False\n",
    "            \n",
    "        return True"
   ]
  },
  {
   "cell_type": "code",
   "execution_count": 16,
   "id": "eff30895",
   "metadata": {},
   "outputs": [
    {
     "data": {
      "text/plain": [
       "True"
      ]
     },
     "execution_count": 16,
     "metadata": {},
     "output_type": "execute_result"
    }
   ],
   "source": [
    "cl = Solution()\n",
    "cl.isPalindrome(212212)"
   ]
  },
  {
   "cell_type": "code",
   "execution_count": null,
   "id": "92eb81b6",
   "metadata": {},
   "outputs": [],
   "source": []
  }
 ],
 "metadata": {
  "kernelspec": {
   "display_name": "Python 3 (ipykernel)",
   "language": "python",
   "name": "python3"
  },
  "language_info": {
   "codemirror_mode": {
    "name": "ipython",
    "version": 3
   },
   "file_extension": ".py",
   "mimetype": "text/x-python",
   "name": "python",
   "nbconvert_exporter": "python",
   "pygments_lexer": "ipython3",
   "version": "3.10.4"
  }
 },
 "nbformat": 4,
 "nbformat_minor": 5
}
