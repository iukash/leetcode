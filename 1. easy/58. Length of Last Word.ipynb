{
 "cells": [
  {
   "cell_type": "markdown",
   "id": "fcb043b4",
   "metadata": {},
   "source": [
    "Вернуть длину последнего слова"
   ]
  },
  {
   "cell_type": "code",
   "execution_count": 25,
   "id": "6f6f860a",
   "metadata": {},
   "outputs": [],
   "source": [
    "import re\n",
    "\n",
    "class Solution:\n",
    "    def lengthOfLastWord(self, s: str) -> int:\n",
    "        return len(re.sub('[!.,?]', '', s).split()[-1])"
   ]
  },
  {
   "cell_type": "code",
   "execution_count": 33,
   "id": "60fa9337",
   "metadata": {},
   "outputs": [
    {
     "data": {
      "text/plain": [
       "5"
      ]
     },
     "execution_count": 33,
     "metadata": {},
     "output_type": "execute_result"
    }
   ],
   "source": [
    "sl = Solution()\n",
    "sl.lengthOfLastWord('Good day world!')"
   ]
  },
  {
   "cell_type": "code",
   "execution_count": null,
   "id": "0776f25c",
   "metadata": {},
   "outputs": [],
   "source": []
  }
 ],
 "metadata": {
  "kernelspec": {
   "display_name": "Python 3 (ipykernel)",
   "language": "python",
   "name": "python3"
  },
  "language_info": {
   "codemirror_mode": {
    "name": "ipython",
    "version": 3
   },
   "file_extension": ".py",
   "mimetype": "text/x-python",
   "name": "python",
   "nbconvert_exporter": "python",
   "pygments_lexer": "ipython3",
   "version": "3.10.6"
  }
 },
 "nbformat": 4,
 "nbformat_minor": 5
}
